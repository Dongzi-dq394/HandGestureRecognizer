{
  "nbformat": 4,
  "nbformat_minor": 0,
  "metadata": {
    "kernelspec": {
      "display_name": "Python 3",
      "language": "python",
      "name": "python3"
    },
    "language_info": {
      "codemirror_mode": {
        "name": "ipython",
        "version": 3
      },
      "file_extension": ".py",
      "mimetype": "text/x-python",
      "name": "python",
      "nbconvert_exporter": "python",
      "pygments_lexer": "ipython3",
      "version": "3.7.4"
    },
    "colab": {
      "name": "handGesture.ipynb",
      "provenance": [],
      "collapsed_sections": [],
      "machine_shape": "hm"
    },
    "accelerator": "TPU"
  },
  "cells": [
    {
      "cell_type": "code",
      "metadata": {
        "id": "rk_hFl3Xx-Oq",
        "colab_type": "code",
        "outputId": "1e3922d2-ec77-4139-f2c0-e3449c493a89",
        "colab": {
          "base_uri": "https://localhost:8080/",
          "height": 54
        }
      },
      "source": [
        "from google.colab import drive\n",
        "drive.mount('/content/gdrive')"
      ],
      "execution_count": 0,
      "outputs": [
        {
          "output_type": "stream",
          "text": [
            "Drive already mounted at /content/gdrive; to attempt to forcibly remount, call drive.mount(\"/content/gdrive\", force_remount=True).\n"
          ],
          "name": "stdout"
        }
      ]
    },
    {
      "cell_type": "code",
      "metadata": {
        "id": "5yoTjxCR8iOx",
        "colab_type": "code",
        "outputId": "b19c8de7-8a1d-42a3-fbfc-7167667689f7",
        "colab": {
          "base_uri": "https://localhost:8080/",
          "height": 34
        }
      },
      "source": [
        "cd /content/gdrive/My Drive/Spring2020/CV/projectFinal/VGG16-In-Keras"
      ],
      "execution_count": 0,
      "outputs": [
        {
          "output_type": "stream",
          "text": [
            "/content/gdrive/My Drive/Spring2020/CV/projectFinal/VGG16-In-Keras\n"
          ],
          "name": "stdout"
        }
      ]
    },
    {
      "cell_type": "code",
      "metadata": {
        "id": "o9PvZmyf8Ndd",
        "colab_type": "code",
        "colab": {}
      },
      "source": [
        "#!pip install -r requirements.txt"
      ],
      "execution_count": 0,
      "outputs": []
    },
    {
      "cell_type": "code",
      "metadata": {
        "id": "ac-hb1WnxHo-",
        "colab_type": "code",
        "outputId": "7620d8c5-f99f-4197-927c-68cad1fe1396",
        "colab": {
          "base_uri": "https://localhost:8080/",
          "height": 34
        }
      },
      "source": [
        "import emoji\n",
        "import keras,os\n",
        "from keras.models import Sequential\n",
        "from keras.layers import Dense, Conv2D, MaxPool2D , Flatten\n",
        "from keras.preprocessing.image import ImageDataGenerator\n",
        "import numpy as np\n",
        "from keras.optimizers import Adam\n",
        "from keras.callbacks import ModelCheckpoint, EarlyStopping\n",
        "import matplotlib.pyplot as plt\n",
        "from keras.preprocessing import image"
      ],
      "execution_count": 0,
      "outputs": [
        {
          "output_type": "stream",
          "text": [
            "Using TensorFlow backend.\n"
          ],
          "name": "stderr"
        }
      ]
    },
    {
      "cell_type": "code",
      "metadata": {
        "id": "oQEa042MxHpL",
        "colab_type": "code",
        "outputId": "b5e26cbd-7c57-4a34-f0a6-f2fac3b036a7",
        "colab": {
          "base_uri": "https://localhost:8080/",
          "height": 51
        }
      },
      "source": [
        "trdata = ImageDataGenerator()\n",
        "traindata = trdata.flow_from_directory(directory=\"data/train\",target_size=(244,244))\n",
        "tsdata = ImageDataGenerator()\n",
        "testdata = tsdata.flow_from_directory(directory=\"data/validation\", target_size=(244,244))"
      ],
      "execution_count": 0,
      "outputs": [
        {
          "output_type": "stream",
          "text": [
            "Found 3000 images belonging to 5 classes.\n",
            "Found 1000 images belonging to 5 classes.\n"
          ],
          "name": "stdout"
        }
      ]
    },
    {
      "cell_type": "code",
      "metadata": {
        "id": "cXC3QWNdxHpQ",
        "colab_type": "code",
        "colab": {}
      },
      "source": [
        "model = Sequential()"
      ],
      "execution_count": 0,
      "outputs": []
    },
    {
      "cell_type": "code",
      "metadata": {
        "id": "Heh5BLGmxHpT",
        "colab_type": "code",
        "colab": {}
      },
      "source": [
        "model.add(Conv2D(input_shape=(244,244,3),filters=64,kernel_size=(3,3),padding=\"same\", activation=\"relu\"))"
      ],
      "execution_count": 0,
      "outputs": []
    },
    {
      "cell_type": "code",
      "metadata": {
        "id": "WqVHtxRdxHpY",
        "colab_type": "code",
        "colab": {}
      },
      "source": [
        "model.add(Conv2D(filters=64,kernel_size=(3,3),padding=\"same\", activation=\"relu\"))"
      ],
      "execution_count": 0,
      "outputs": []
    },
    {
      "cell_type": "code",
      "metadata": {
        "id": "SK0Wpb8vxHpc",
        "colab_type": "code",
        "colab": {}
      },
      "source": [
        "model.add(MaxPool2D(pool_size=(2,2),strides=(2,2)))"
      ],
      "execution_count": 0,
      "outputs": []
    },
    {
      "cell_type": "code",
      "metadata": {
        "id": "Q7T-IW9JxHpg",
        "colab_type": "code",
        "colab": {}
      },
      "source": [
        "model.add(Conv2D(filters=128, kernel_size=(3,3), padding=\"same\", activation=\"relu\"))"
      ],
      "execution_count": 0,
      "outputs": []
    },
    {
      "cell_type": "code",
      "metadata": {
        "id": "fVXhjN8kxHpo",
        "colab_type": "code",
        "colab": {}
      },
      "source": [
        "model.add(Conv2D(filters=128, kernel_size=(3,3), padding=\"same\", activation=\"relu\"))"
      ],
      "execution_count": 0,
      "outputs": []
    },
    {
      "cell_type": "code",
      "metadata": {
        "id": "V7b78nHOxHps",
        "colab_type": "code",
        "colab": {}
      },
      "source": [
        "model.add(MaxPool2D(pool_size=(2,2),strides=(2,2)))"
      ],
      "execution_count": 0,
      "outputs": []
    },
    {
      "cell_type": "code",
      "metadata": {
        "id": "uVWHlpIqxHpw",
        "colab_type": "code",
        "colab": {}
      },
      "source": [
        "model.add(Conv2D(filters=256, kernel_size=(3,3), padding=\"same\", activation=\"relu\"))"
      ],
      "execution_count": 0,
      "outputs": []
    },
    {
      "cell_type": "code",
      "metadata": {
        "id": "nSrWWGvXxHp2",
        "colab_type": "code",
        "colab": {}
      },
      "source": [
        "model.add(Conv2D(filters=256, kernel_size=(3,3), padding=\"same\", activation=\"relu\"))"
      ],
      "execution_count": 0,
      "outputs": []
    },
    {
      "cell_type": "code",
      "metadata": {
        "id": "O0OZMo78xHp-",
        "colab_type": "code",
        "colab": {}
      },
      "source": [
        "model.add(Conv2D(filters=256, kernel_size=(3,3), padding=\"same\", activation=\"relu\"))"
      ],
      "execution_count": 0,
      "outputs": []
    },
    {
      "cell_type": "code",
      "metadata": {
        "id": "jx-lqjahxHqE",
        "colab_type": "code",
        "colab": {}
      },
      "source": [
        "model.add(MaxPool2D(pool_size=(2,2),strides=(2,2)))"
      ],
      "execution_count": 0,
      "outputs": []
    },
    {
      "cell_type": "code",
      "metadata": {
        "id": "182CCE87xHqJ",
        "colab_type": "code",
        "colab": {}
      },
      "source": [
        "model.add(Conv2D(filters=512, kernel_size=(3,3), padding=\"same\", activation=\"relu\"))"
      ],
      "execution_count": 0,
      "outputs": []
    },
    {
      "cell_type": "code",
      "metadata": {
        "id": "48UUbWNsxHql",
        "colab_type": "code",
        "colab": {}
      },
      "source": [
        "model.add(Conv2D(filters=512, kernel_size=(3,3), padding=\"same\", activation=\"relu\"))"
      ],
      "execution_count": 0,
      "outputs": []
    },
    {
      "cell_type": "code",
      "metadata": {
        "id": "zBaMdpnYxHqo",
        "colab_type": "code",
        "colab": {}
      },
      "source": [
        "model.add(Conv2D(filters=512, kernel_size=(3,3), padding=\"same\", activation=\"relu\"))"
      ],
      "execution_count": 0,
      "outputs": []
    },
    {
      "cell_type": "code",
      "metadata": {
        "id": "XaooNes6xHqr",
        "colab_type": "code",
        "colab": {}
      },
      "source": [
        "model.add(MaxPool2D(pool_size=(2,2),strides=(2,2)))"
      ],
      "execution_count": 0,
      "outputs": []
    },
    {
      "cell_type": "code",
      "metadata": {
        "id": "1ziaaJdExHqv",
        "colab_type": "code",
        "colab": {}
      },
      "source": [
        "model.add(Conv2D(filters=512, kernel_size=(3,3), padding=\"same\", activation=\"relu\"))"
      ],
      "execution_count": 0,
      "outputs": []
    },
    {
      "cell_type": "code",
      "metadata": {
        "id": "AZMdKxujxHq0",
        "colab_type": "code",
        "colab": {}
      },
      "source": [
        "model.add(Conv2D(filters=512, kernel_size=(3,3), padding=\"same\", activation=\"relu\"))"
      ],
      "execution_count": 0,
      "outputs": []
    },
    {
      "cell_type": "code",
      "metadata": {
        "id": "KSPkB11YxHq3",
        "colab_type": "code",
        "colab": {}
      },
      "source": [
        "model.add(Conv2D(filters=512, kernel_size=(3,3), padding=\"same\", activation=\"relu\"))"
      ],
      "execution_count": 0,
      "outputs": []
    },
    {
      "cell_type": "code",
      "metadata": {
        "id": "QUN0GgDbxHq8",
        "colab_type": "code",
        "colab": {}
      },
      "source": [
        "model.add(MaxPool2D(pool_size=(2,2),strides=(2,2)))"
      ],
      "execution_count": 0,
      "outputs": []
    },
    {
      "cell_type": "code",
      "metadata": {
        "id": "pjdSwmgHxHq_",
        "colab_type": "code",
        "colab": {}
      },
      "source": [
        "model.add(Flatten())"
      ],
      "execution_count": 0,
      "outputs": []
    },
    {
      "cell_type": "code",
      "metadata": {
        "id": "0NcFw4_2xHrC",
        "colab_type": "code",
        "colab": {}
      },
      "source": [
        "model.add(Dense(units=4096,activation=\"relu\"))"
      ],
      "execution_count": 0,
      "outputs": []
    },
    {
      "cell_type": "code",
      "metadata": {
        "id": "F43hqn3uxHrF",
        "colab_type": "code",
        "colab": {}
      },
      "source": [
        "model.add(Dense(units=4096,activation=\"relu\"))"
      ],
      "execution_count": 0,
      "outputs": []
    },
    {
      "cell_type": "code",
      "metadata": {
        "id": "vtddzyHUxHrI",
        "colab_type": "code",
        "colab": {}
      },
      "source": [
        "model.add(Dense(units=5, activation=\"softmax\"))"
      ],
      "execution_count": 0,
      "outputs": []
    },
    {
      "cell_type": "code",
      "metadata": {
        "id": "nF2A6XkhxHrO",
        "colab_type": "code",
        "colab": {}
      },
      "source": [
        "opt = Adam(lr=0.001)\n",
        "model.compile(optimizer=opt, loss=keras.losses.categorical_crossentropy, metrics=['accuracy'])"
      ],
      "execution_count": 0,
      "outputs": []
    },
    {
      "cell_type": "code",
      "metadata": {
        "id": "SH235wETxHrU",
        "colab_type": "code",
        "outputId": "d7d0e45e-49ec-43d1-f373-83b1d12c26e8",
        "colab": {
          "base_uri": "https://localhost:8080/",
          "height": 901
        }
      },
      "source": [
        "model.summary()"
      ],
      "execution_count": 0,
      "outputs": [
        {
          "output_type": "stream",
          "text": [
            "Model: \"sequential_1\"\n",
            "_________________________________________________________________\n",
            "Layer (type)                 Output Shape              Param #   \n",
            "=================================================================\n",
            "conv2d_1 (Conv2D)            (None, 244, 244, 64)      1792      \n",
            "_________________________________________________________________\n",
            "conv2d_2 (Conv2D)            (None, 244, 244, 64)      36928     \n",
            "_________________________________________________________________\n",
            "max_pooling2d_1 (MaxPooling2 (None, 122, 122, 64)      0         \n",
            "_________________________________________________________________\n",
            "conv2d_3 (Conv2D)            (None, 122, 122, 128)     73856     \n",
            "_________________________________________________________________\n",
            "conv2d_4 (Conv2D)            (None, 122, 122, 128)     147584    \n",
            "_________________________________________________________________\n",
            "max_pooling2d_2 (MaxPooling2 (None, 61, 61, 128)       0         \n",
            "_________________________________________________________________\n",
            "conv2d_5 (Conv2D)            (None, 61, 61, 256)       295168    \n",
            "_________________________________________________________________\n",
            "conv2d_6 (Conv2D)            (None, 61, 61, 256)       590080    \n",
            "_________________________________________________________________\n",
            "conv2d_7 (Conv2D)            (None, 61, 61, 256)       590080    \n",
            "_________________________________________________________________\n",
            "max_pooling2d_3 (MaxPooling2 (None, 30, 30, 256)       0         \n",
            "_________________________________________________________________\n",
            "conv2d_8 (Conv2D)            (None, 30, 30, 512)       1180160   \n",
            "_________________________________________________________________\n",
            "conv2d_9 (Conv2D)            (None, 30, 30, 512)       2359808   \n",
            "_________________________________________________________________\n",
            "conv2d_10 (Conv2D)           (None, 30, 30, 512)       2359808   \n",
            "_________________________________________________________________\n",
            "max_pooling2d_4 (MaxPooling2 (None, 15, 15, 512)       0         \n",
            "_________________________________________________________________\n",
            "conv2d_11 (Conv2D)           (None, 15, 15, 512)       2359808   \n",
            "_________________________________________________________________\n",
            "conv2d_12 (Conv2D)           (None, 15, 15, 512)       2359808   \n",
            "_________________________________________________________________\n",
            "conv2d_13 (Conv2D)           (None, 15, 15, 512)       2359808   \n",
            "_________________________________________________________________\n",
            "max_pooling2d_5 (MaxPooling2 (None, 7, 7, 512)         0         \n",
            "_________________________________________________________________\n",
            "flatten_1 (Flatten)          (None, 25088)             0         \n",
            "_________________________________________________________________\n",
            "dense_1 (Dense)              (None, 4096)              102764544 \n",
            "_________________________________________________________________\n",
            "dense_2 (Dense)              (None, 4096)              16781312  \n",
            "_________________________________________________________________\n",
            "dense_3 (Dense)              (None, 5)                 20485     \n",
            "=================================================================\n",
            "Total params: 134,281,029\n",
            "Trainable params: 134,281,029\n",
            "Non-trainable params: 0\n",
            "_________________________________________________________________\n"
          ],
          "name": "stdout"
        }
      ]
    },
    {
      "cell_type": "code",
      "metadata": {
        "id": "TTFoh6PFxHrb",
        "colab_type": "code",
        "colab": {}
      },
      "source": [
        "checkpoint = ModelCheckpoint(\"vgg16_hand_3.h5\", monitor='val_accuracy', verbose=1, save_best_only=True, save_weights_only=False, mode='auto', period=1)\n",
        "early = EarlyStopping(monitor='val_accuracy', min_delta=0, patience=10, verbose=1, mode='auto')"
      ],
      "execution_count": 0,
      "outputs": []
    },
    {
      "cell_type": "code",
      "metadata": {
        "id": "cRkheoPIxHre",
        "colab_type": "code",
        "outputId": "fbcb1d80-5632-4a00-d717-17b2e4a46eb3",
        "colab": {
          "base_uri": "https://localhost:8080/",
          "height": 1000
        }
      },
      "source": [
        "hist = model.fit_generator(steps_per_epoch=10,generator=traindata, validation_data= testdata, validation_steps=10,epochs=50,callbacks=[checkpoint,early])"
      ],
      "execution_count": 0,
      "outputs": [
        {
          "output_type": "stream",
          "text": [
            "Epoch 1/50\n",
            "10/10 [==============================] - 72s 7s/step - loss: 897.8797 - accuracy: 0.2156 - val_loss: 1.6144 - val_accuracy: 0.2188\n",
            "\n",
            "Epoch 00001: val_accuracy improved from -inf to 0.21875, saving model to vgg16_hand_3.h5\n",
            "Epoch 2/50\n",
            "10/10 [==============================] - 72s 7s/step - loss: 1.7029 - accuracy: 0.2344 - val_loss: 1.6133 - val_accuracy: 0.2094\n",
            "\n",
            "Epoch 00002: val_accuracy did not improve from 0.21875\n",
            "Epoch 3/50\n",
            "10/10 [==============================] - 71s 7s/step - loss: 1.6032 - accuracy: 0.2000 - val_loss: 1.5959 - val_accuracy: 0.2156\n",
            "\n",
            "Epoch 00003: val_accuracy did not improve from 0.21875\n",
            "Epoch 4/50\n",
            "10/10 [==============================] - 70s 7s/step - loss: 1.6074 - accuracy: 0.2688 - val_loss: 1.5952 - val_accuracy: 0.2196\n",
            "\n",
            "Epoch 00004: val_accuracy improved from 0.21875 to 0.21959, saving model to vgg16_hand_3.h5\n",
            "Epoch 5/50\n",
            "10/10 [==============================] - 70s 7s/step - loss: 1.6102 - accuracy: 0.1955 - val_loss: 1.5182 - val_accuracy: 0.2719\n",
            "\n",
            "Epoch 00005: val_accuracy improved from 0.21959 to 0.27187, saving model to vgg16_hand_3.h5\n",
            "Epoch 6/50\n",
            "10/10 [==============================] - 72s 7s/step - loss: 1.4423 - accuracy: 0.3125 - val_loss: 1.3731 - val_accuracy: 0.4250\n",
            "\n",
            "Epoch 00006: val_accuracy improved from 0.27187 to 0.42500, saving model to vgg16_hand_3.h5\n",
            "Epoch 7/50\n",
            "10/10 [==============================] - 77s 8s/step - loss: 1.4366 - accuracy: 0.3594 - val_loss: 1.5506 - val_accuracy: 0.2804\n",
            "\n",
            "Epoch 00007: val_accuracy did not improve from 0.42500\n",
            "Epoch 8/50\n",
            "10/10 [==============================] - 71s 7s/step - loss: 1.5198 - accuracy: 0.3406 - val_loss: 1.4483 - val_accuracy: 0.4750\n",
            "\n",
            "Epoch 00008: val_accuracy improved from 0.42500 to 0.47500, saving model to vgg16_hand_3.h5\n",
            "Epoch 9/50\n",
            "10/10 [==============================] - 72s 7s/step - loss: 1.3092 - accuracy: 0.4531 - val_loss: 1.0171 - val_accuracy: 0.5844\n",
            "\n",
            "Epoch 00009: val_accuracy improved from 0.47500 to 0.58438, saving model to vgg16_hand_3.h5\n",
            "Epoch 10/50\n",
            "10/10 [==============================] - 71s 7s/step - loss: 1.0263 - accuracy: 0.6094 - val_loss: 1.0520 - val_accuracy: 0.5743\n",
            "\n",
            "Epoch 00010: val_accuracy did not improve from 0.58438\n",
            "Epoch 11/50\n",
            "10/10 [==============================] - 71s 7s/step - loss: 0.9361 - accuracy: 0.6313 - val_loss: 1.0956 - val_accuracy: 0.5437\n",
            "\n",
            "Epoch 00011: val_accuracy did not improve from 0.58438\n",
            "Epoch 12/50\n",
            "10/10 [==============================] - 71s 7s/step - loss: 0.7677 - accuracy: 0.7125 - val_loss: 1.1976 - val_accuracy: 0.6156\n",
            "\n",
            "Epoch 00012: val_accuracy improved from 0.58438 to 0.61563, saving model to vgg16_hand_3.h5\n",
            "Epoch 13/50\n",
            "10/10 [==============================] - 71s 7s/step - loss: 0.6684 - accuracy: 0.7906 - val_loss: 0.5460 - val_accuracy: 0.7331\n",
            "\n",
            "Epoch 00013: val_accuracy improved from 0.61563 to 0.73311, saving model to vgg16_hand_3.h5\n",
            "Epoch 14/50\n",
            "10/10 [==============================] - 72s 7s/step - loss: 0.4806 - accuracy: 0.8125 - val_loss: 0.8091 - val_accuracy: 0.7719\n",
            "\n",
            "Epoch 00014: val_accuracy improved from 0.73311 to 0.77188, saving model to vgg16_hand_3.h5\n",
            "Epoch 15/50\n",
            "10/10 [==============================] - 72s 7s/step - loss: 0.3347 - accuracy: 0.8719 - val_loss: 0.4777 - val_accuracy: 0.7969\n",
            "\n",
            "Epoch 00015: val_accuracy improved from 0.77188 to 0.79688, saving model to vgg16_hand_3.h5\n",
            "Epoch 16/50\n",
            "10/10 [==============================] - 69s 7s/step - loss: 0.3288 - accuracy: 0.9135 - val_loss: 0.6653 - val_accuracy: 0.8345\n",
            "\n",
            "Epoch 00016: val_accuracy improved from 0.79688 to 0.83446, saving model to vgg16_hand_3.h5\n",
            "Epoch 17/50\n",
            "10/10 [==============================] - 72s 7s/step - loss: 0.2473 - accuracy: 0.9531 - val_loss: 0.5341 - val_accuracy: 0.8656\n",
            "\n",
            "Epoch 00017: val_accuracy improved from 0.83446 to 0.86563, saving model to vgg16_hand_3.h5\n",
            "Epoch 18/50\n",
            "10/10 [==============================] - 72s 7s/step - loss: 0.2715 - accuracy: 0.9125 - val_loss: 0.2069 - val_accuracy: 0.9000\n",
            "\n",
            "Epoch 00018: val_accuracy improved from 0.86563 to 0.90000, saving model to vgg16_hand_3.h5\n",
            "Epoch 19/50\n",
            "10/10 [==============================] - 72s 7s/step - loss: 0.1981 - accuracy: 0.9375 - val_loss: 0.7005 - val_accuracy: 0.8156\n",
            "\n",
            "Epoch 00019: val_accuracy did not improve from 0.90000\n",
            "Epoch 20/50\n",
            "10/10 [==============================] - 70s 7s/step - loss: 0.1188 - accuracy: 0.9531 - val_loss: 0.6654 - val_accuracy: 0.8649\n",
            "\n",
            "Epoch 00020: val_accuracy did not improve from 0.90000\n",
            "Epoch 21/50\n",
            "10/10 [==============================] - 72s 7s/step - loss: 0.0471 - accuracy: 0.9844 - val_loss: 2.0097 - val_accuracy: 0.8469\n",
            "\n",
            "Epoch 00021: val_accuracy did not improve from 0.90000\n",
            "Epoch 22/50\n",
            "10/10 [==============================] - 72s 7s/step - loss: 0.6602 - accuracy: 0.8375 - val_loss: 0.8818 - val_accuracy: 0.6844\n",
            "\n",
            "Epoch 00022: val_accuracy did not improve from 0.90000\n",
            "Epoch 23/50\n",
            "10/10 [==============================] - 71s 7s/step - loss: 0.3031 - accuracy: 0.9094 - val_loss: 0.9962 - val_accuracy: 0.7669\n",
            "\n",
            "Epoch 00023: val_accuracy did not improve from 0.90000\n",
            "Epoch 24/50\n",
            "10/10 [==============================] - 72s 7s/step - loss: 0.5256 - accuracy: 0.8906 - val_loss: 0.3114 - val_accuracy: 0.8219\n",
            "\n",
            "Epoch 00024: val_accuracy did not improve from 0.90000\n",
            "Epoch 25/50\n",
            "10/10 [==============================] - 71s 7s/step - loss: 0.2471 - accuracy: 0.9125 - val_loss: 0.6991 - val_accuracy: 0.8406\n",
            "\n",
            "Epoch 00025: val_accuracy did not improve from 0.90000\n",
            "Epoch 26/50\n",
            "10/10 [==============================] - 71s 7s/step - loss: 0.1656 - accuracy: 0.9438 - val_loss: 0.2754 - val_accuracy: 0.8176\n",
            "\n",
            "Epoch 00026: val_accuracy did not improve from 0.90000\n",
            "Epoch 27/50\n",
            "10/10 [==============================] - 72s 7s/step - loss: 0.1145 - accuracy: 0.9531 - val_loss: 0.5826 - val_accuracy: 0.9031\n",
            "\n",
            "Epoch 00027: val_accuracy improved from 0.90000 to 0.90312, saving model to vgg16_hand_3.h5\n",
            "Epoch 28/50\n",
            "10/10 [==============================] - 70s 7s/step - loss: 0.0947 - accuracy: 0.9712 - val_loss: 0.5034 - val_accuracy: 0.8687\n",
            "\n",
            "Epoch 00028: val_accuracy did not improve from 0.90312\n",
            "Epoch 29/50\n",
            "10/10 [==============================] - 71s 7s/step - loss: 0.0636 - accuracy: 0.9781 - val_loss: 0.3889 - val_accuracy: 0.9088\n",
            "\n",
            "Epoch 00029: val_accuracy improved from 0.90312 to 0.90878, saving model to vgg16_hand_3.h5\n",
            "Epoch 30/50\n",
            "10/10 [==============================] - 72s 7s/step - loss: 0.0634 - accuracy: 0.9844 - val_loss: 0.8374 - val_accuracy: 0.8938\n",
            "\n",
            "Epoch 00030: val_accuracy did not improve from 0.90878\n",
            "Epoch 31/50\n",
            "10/10 [==============================] - 72s 7s/step - loss: 0.0560 - accuracy: 0.9906 - val_loss: 0.7544 - val_accuracy: 0.9062\n",
            "\n",
            "Epoch 00031: val_accuracy did not improve from 0.90878\n",
            "Epoch 32/50\n",
            "10/10 [==============================] - 71s 7s/step - loss: 0.0272 - accuracy: 0.9937 - val_loss: 1.1145 - val_accuracy: 0.8851\n",
            "\n",
            "Epoch 00032: val_accuracy did not improve from 0.90878\n",
            "Epoch 33/50\n",
            "10/10 [==============================] - 72s 7s/step - loss: 0.0299 - accuracy: 0.9937 - val_loss: 0.5763 - val_accuracy: 0.8969\n",
            "\n",
            "Epoch 00033: val_accuracy did not improve from 0.90878\n",
            "Epoch 34/50\n",
            "10/10 [==============================] - 70s 7s/step - loss: 0.0059 - accuracy: 1.0000 - val_loss: 0.1594 - val_accuracy: 0.8687\n",
            "\n",
            "Epoch 00034: val_accuracy did not improve from 0.90878\n",
            "Epoch 35/50\n",
            "10/10 [==============================] - 72s 7s/step - loss: 0.0181 - accuracy: 0.9875 - val_loss: 0.2285 - val_accuracy: 0.8844\n",
            "\n",
            "Epoch 00035: val_accuracy did not improve from 0.90878\n",
            "Epoch 36/50\n",
            "10/10 [==============================] - 71s 7s/step - loss: 0.0849 - accuracy: 0.9750 - val_loss: 1.0460 - val_accuracy: 0.8750\n",
            "\n",
            "Epoch 00036: val_accuracy did not improve from 0.90878\n",
            "Epoch 37/50\n",
            "10/10 [==============================] - 71s 7s/step - loss: 0.0624 - accuracy: 0.9812 - val_loss: 1.1756 - val_accuracy: 0.8844\n",
            "\n",
            "Epoch 00037: val_accuracy did not improve from 0.90878\n",
            "Epoch 38/50\n",
            "10/10 [==============================] - 72s 7s/step - loss: 0.0790 - accuracy: 0.9750 - val_loss: 0.1033 - val_accuracy: 0.8750\n",
            "\n",
            "Epoch 00038: val_accuracy did not improve from 0.90878\n",
            "Epoch 39/50\n",
            "10/10 [==============================] - 70s 7s/step - loss: 0.0753 - accuracy: 0.9750 - val_loss: 0.7219 - val_accuracy: 0.8919\n",
            "\n",
            "Epoch 00039: val_accuracy did not improve from 0.90878\n",
            "Epoch 00039: early stopping\n"
          ],
          "name": "stdout"
        }
      ]
    },
    {
      "cell_type": "code",
      "metadata": {
        "id": "dBmp03L2xHrh",
        "colab_type": "code",
        "outputId": "5fa49e7a-c233-447b-f998-2eea4e9d16c4",
        "colab": {
          "base_uri": "https://localhost:8080/",
          "height": 295
        }
      },
      "source": [
        "import matplotlib.pyplot as plt\n",
        "plt.plot(hist.history[\"accuracy\"])\n",
        "plt.plot(hist.history['val_accuracy'])\n",
        "#plt.plot(hist.history['loss'])\n",
        "#plt.plot(hist.history['val_loss'])\n",
        "plt.title(\"model accuracy\")\n",
        "plt.ylabel(\"Accuracy\")\n",
        "plt.xlabel(\"Epoch\")\n",
        "#plt.legend([\"Accuracy\",\"Validation Accuracy\",\"loss\",\"Validation Loss\"])\n",
        "plt.legend([\"Accuracy\",\"Validation Accuracy\"])\n",
        "plt.show()"
      ],
      "execution_count": 0,
      "outputs": [
        {
          "output_type": "display_data",
          "data": {
            "image/png": "[encoded data removed]",
            "text/plain": [
              "<Figure size 432x288 with 1 Axes>"
            ]
          },
          "metadata": {
            "tags": [],
            "needs_background": "light"
          }
        }
      ]
    },
    {
      "cell_type": "code",
      "metadata": {
        "id": "NQA2dfYdxHro",
        "colab_type": "code",
        "outputId": "a01e1b53-66fd-4514-c15a-9ef96773a0c0",
        "colab": {
          "base_uri": "https://localhost:8080/",
          "height": 269
        }
      },
      "source": [
        "img = image.load_img(\"test4.jpg\",target_size=(244,244))\n",
        "#print(img)\n",
        "img = np.asarray(img)\n",
        "#print(img.shape)\n",
        "plt.imshow(img)\n",
        "img = np.expand_dims(img, axis=0)\n",
        "#print(img.shape)\n",
        "from keras.models import load_model\n",
        "saved_model = load_model(\"vgg16_hand_3.h5\")\n",
        "output = saved_model.predict(img)"
      ],
      "execution_count": 0,
      "outputs": [
        {
          "output_type": "display_data",
          "data": {
            "image/png": "[encoded data removed]",
            "text/plain": [
              "<Figure size 432x288 with 1 Axes>"
            ]
          },
          "metadata": {
            "tags": [],
            "needs_background": "light"
          }
        }
      ]
    },
    {
      "cell_type": "code",
      "metadata": {
        "id": "G5vKVDdAxHrs",
        "colab_type": "code",
        "outputId": "8cbeab28-ce4b-4755-e643-31b9cf80b0ec",
        "colab": {
          "base_uri": "https://localhost:8080/",
          "height": 34
        }
      },
      "source": [
        "pred = np.argmax(output[0])\n",
        "gestures = [':raised_fist:',':love-you_gesture:',':OK_hand:',':raised_back_of_hand:',':victory_hand:']\n",
        "print(emoji.emojize(gestures[pred]))"
      ],
      "execution_count": 0,
      "outputs": [
        {
          "output_type": "stream",
          "text": [
            "🤚\n"
          ],
          "name": "stdout"
        }
      ]
    },
    {
      "cell_type": "code",
      "metadata": {
        "id": "_RoygoW0xHrv",
        "colab_type": "code",
        "outputId": "c69997de-996a-4760-bdfd-d7cf4bb1951d",
        "colab": {
          "base_uri": "https://localhost:8080/",
          "height": 54
        }
      },
      "source": [
        "print(hist.history['loss'])"
      ],
      "execution_count": 0,
      "outputs": [
        {
          "output_type": "stream",
          "text": [
            "[897.8796525597572, 1.7029281735420227, 1.6031753778457642, 1.6073925375938416, 1.6097427912247486, 1.4423487901687622, 1.436565089225769, 1.519780170917511, 1.3092177867889405, 1.0263171255588532, 0.9360634922981262, 0.7677482962608337, 0.6684073060750961, 0.48062616437673567, 0.33471818417310717, 0.33372161919489884, 0.24727045204490422, 0.27151610404253007, 0.19811190590262412, 0.11878869645297527, 0.04712846462425659, 0.6601520841941237, 0.3031464906409383, 0.5256364226341248, 0.24709664285182953, 0.16555840242654085, 0.11445296932943165, 0.09382017434407504, 0.06363183171488344, 0.06343814486108386, 0.055973751982674, 0.02724215933121741, 0.029873331967974082, 0.006036893437759807, 0.018055772825027815, 0.08485758066628932, 0.062437991285696624, 0.07903356517199427, 0.07530039120465518]\n"
          ],
          "name": "stdout"
        }
      ]
    },
    {
      "cell_type": "code",
      "metadata": {
        "id": "JclO0Jcu8k7r",
        "colab_type": "code",
        "outputId": "14049dda-7e4d-419f-9def-f93fa88de703",
        "colab": {
          "base_uri": "https://localhost:8080/",
          "height": 54
        }
      },
      "source": [
        "print(hist.history['val_accuracy'])"
      ],
      "execution_count": 0,
      "outputs": [
        {
          "output_type": "stream",
          "text": [
            "[0.21875, 0.20937499403953552, 0.21562500298023224, 0.21959459781646729, 0.2718749940395355, 0.42500001192092896, 0.2804054021835327, 0.4749999940395355, 0.5843750238418579, 0.5743243098258972, 0.543749988079071, 0.6156250238418579, 0.7331081032752991, 0.7718750238418579, 0.796875, 0.8344594836235046, 0.8656250238418579, 0.8999999761581421, 0.815625011920929, 0.8648648858070374, 0.846875011920929, 0.684374988079071, 0.7668918967247009, 0.8218749761581421, 0.840624988079071, 0.8175675868988037, 0.903124988079071, 0.8687499761581421, 0.9087837934494019, 0.893750011920929, 0.90625, 0.8851351141929626, 0.8968750238418579, 0.8687499761581421, 0.8843749761581421, 0.875, 0.8843749761581421, 0.875, 0.8918918967247009]\n"
          ],
          "name": "stdout"
        }
      ]
    },
    {
      "cell_type": "code",
      "metadata": {
        "id": "sZ9JMYZ39Y_4",
        "colab_type": "code",
        "outputId": "cd9283f8-66ec-46cf-9e9f-5192ea600f06",
        "colab": {
          "base_uri": "https://localhost:8080/",
          "height": 54
        }
      },
      "source": [
        "print(hist.history['accuracy'])"
      ],
      "execution_count": 0,
      "outputs": [
        {
          "output_type": "stream",
          "text": [
            "[0.215625, 0.234375, 0.2, 0.26875, 0.19551282, 0.3125, 0.359375, 0.340625, 0.453125, 0.609375, 0.63125, 0.7125, 0.790625, 0.8125, 0.871875, 0.91346157, 0.953125, 0.9125, 0.9375, 0.953125, 0.984375, 0.8375, 0.909375, 0.890625, 0.9125, 0.94375, 0.953125, 0.97115386, 0.978125, 0.984375, 0.990625, 0.99375, 0.99375, 1.0, 0.9875, 0.975, 0.98125, 0.975, 0.975]\n"
          ],
          "name": "stdout"
        }
      ]
    },
    {
      "cell_type": "code",
      "metadata": {
        "id": "1csPg2oO9ayO",
        "colab_type": "code",
        "colab": {}
      },
      "source": [
        ""
      ],
      "execution_count": 0,
      "outputs": []
    }
  ]
}